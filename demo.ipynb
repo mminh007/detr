{
 "cells": [
  {
   "cell_type": "code",
   "execution_count": 3,
   "metadata": {},
   "outputs": [],
   "source": [
    "def train(config):\n",
    "    args = \"\"\n",
    "    for k, v in config.items():\n",
    "        if k.startswith(\"_\"):\n",
    "            args += f'\"{v}\" '\n",
    "        elif isinstance(v, str):\n",
    "            args += f'--{k}=\"{v}\" '\n",
    "        elif isinstance(v, bool) and v:\n",
    "            args += f\"--{k} \"\n",
    "        elif isinstance(v, float) and not isinstance(v, bool):\n",
    "            args += f\"--{k}={v} \"\n",
    "        elif isinstance(v, int) and not isinstance(v, bool):\n",
    "            args += f\"--{k}={v} \"\n",
    "\n",
    "    return args"
   ]
  },
  {
   "cell_type": "code",
   "execution_count": 4,
   "metadata": {},
   "outputs": [],
   "source": [
    "data_dir = \"C://Users/Admins/OneDrive/img_dataset/detr_dataset\"\n",
    "pretrained_model_name_or_path = \"facebook/detr-resnet-50\"\n",
    "label_train_path = \"_annotations.coco.json\"\n",
    "lr = 1e-4\n",
    "lr_backbone = 1e-5\n",
    "batch_size = 2\n",
    "weight_decay = 1e-4\n",
    "gradient_clip_val = 0.1\n",
    "max_epochs = 2\n",
    "accumulate_grad_batches = 8\n",
    "devices = 1\n",
    "accelerator = \"gpu\"\n",
    "output_dir = \"C://Users/Admins/OneDrive/img_dataset/detr_output\""
   ]
  },
  {
   "cell_type": "code",
   "execution_count": 5,
   "metadata": {},
   "outputs": [],
   "source": [
    "train_conf = {\n",
    "    \"data_dir\": data_dir,\n",
    "    \"pretrained_model_name_or_path\": pretrained_model_name_or_path,\n",
    "    \"label_train_path\": label_train_path,\n",
    "    \"lr\": lr,\n",
    "    \"lr_backbone\": lr_backbone,\n",
    "    \"batch_size\": batch_size,\n",
    "    \"weight_decay\": weight_decay,\n",
    "    \"gradient_clip_val\": gradient_clip_val,\n",
    "    \"max_epochs\": max_epochs,\n",
    "    \"accumulate_grad_batches\": accumulate_grad_batches,\n",
    "    \"devices\": devices,\n",
    "    \"accelerator\": accelerator,\n",
    "    \"output_dir\": output_dir\n",
    "}"
   ]
  },
  {
   "cell_type": "code",
   "execution_count": 6,
   "metadata": {},
   "outputs": [],
   "source": [
    "train_args = train(train_conf)"
   ]
  },
  {
   "cell_type": "code",
   "execution_count": 9,
   "metadata": {},
   "outputs": [
    {
     "name": "stdout",
     "output_type": "stream",
     "text": [
      "python C://Users/Admins/OneDrive/AI/Object_Detection_23/DETR/main.py --data_dir=\"C://Users/Admins/OneDrive/img_dataset/detr_dataset\" --pretrained_model_name_or_path=\"facebook/detr-resnet-50\" --label_train_path=\"_annotations.coco.json\" --lr=0.0001 --lr_backbone=1e-05 --batch_size=2 --weight_decay=0.0001 --gradient_clip_val=0.1 --max_epochs=2 --accumulate_grad_batches=8 --devices=1 --accelerator=\"gpu\" --output_dir=\"C://Users/Admins/OneDrive/img_dataset/detr_output\" \n"
     ]
    }
   ],
   "source": [
    "script = f\"python C://Users/Admins/OneDrive/AI/Object_Detection_23/DETR/main.py {train_args}\"\n",
    "print(script)"
   ]
  },
  {
   "cell_type": "code",
   "execution_count": 10,
   "metadata": {},
   "outputs": [
    {
     "name": "stderr",
     "output_type": "stream",
     "text": [
      "OMP: Error #15: Initializing libiomp5md.dll, but found libiomp5md.dll already initialized.\n",
      "OMP: Hint This means that multiple copies of the OpenMP runtime have been linked into the program. That is dangerous, since it can degrade performance or cause incorrect results. The best thing to do is to ensure that only a single OpenMP runtime is linked into the process, e.g. by avoiding static linking of the OpenMP runtime in any library. As an unsafe, unsupported, undocumented workaround you can set the environment variable KMP_DUPLICATE_LIB_OK=TRUE to allow the program to continue to execute, but that may cause crashes or silently produce incorrect results. For more information, please see http://www.intel.com/software/products/support/.\n"
     ]
    }
   ],
   "source": [
    "#!{script}"
   ]
  },
  {
   "cell_type": "code",
   "execution_count": null,
   "metadata": {},
   "outputs": [],
   "source": []
  },
  {
   "cell_type": "code",
   "execution_count": null,
   "metadata": {},
   "outputs": [],
   "source": []
  }
 ],
 "metadata": {
  "kernelspec": {
   "display_name": "torch-gpu",
   "language": "python",
   "name": "python3"
  },
  "language_info": {
   "codemirror_mode": {
    "name": "ipython",
    "version": 3
   },
   "file_extension": ".py",
   "mimetype": "text/x-python",
   "name": "python",
   "nbconvert_exporter": "python",
   "pygments_lexer": "ipython3",
   "version": "3.10.9"
  }
 },
 "nbformat": 4,
 "nbformat_minor": 2
}
